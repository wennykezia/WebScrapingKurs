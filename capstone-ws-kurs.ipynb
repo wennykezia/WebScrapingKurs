{
 "cells": [
  {
   "cell_type": "markdown",
   "metadata": {},
   "source": [
    "**Web Scraping Kurs JPY 2019**\n",
    "\n",
    "Proses web scraping ini bersumber dari website : monexnews.com/kurs-valuta-asing.htm?kurs=JPY ,\n",
    "\n",
    "dilakukan dengan tujuan untuk mengamati pergerakan kurs JPY (mata uang Jepang) pada tahun 2019. Hasil akhir dari kegiatan ini berupa plot/diagram yang menampilkan nilai rata-rata kurs JPY tiap bulannya."
   ]
  },
  {
   "cell_type": "code",
   "execution_count": 3,
   "metadata": {},
   "outputs": [],
   "source": [
    "import requests\n",
    "from bs4 import BeautifulSoup\n",
    "import pandas as pd\n",
    "import matplotlib"
   ]
  },
  {
   "cell_type": "code",
   "execution_count": 4,
   "metadata": {
    "scrolled": true
   },
   "outputs": [
    {
     "name": "stdout",
     "output_type": "stream",
     "text": [
      "<!DOCTYPE html PUBLIC \"-//W3C//DTD XHTML 1.0 Transitional//EN\" \"http://www.w3.org/TR/xhtml1/DTD/xhtml1-transitional.dtd\">\n",
      "<html xmlns=\"http://www.w3.org/1999/xhtml\">\n",
      " <head>\n",
      "  <meta content=\"en,in\" http-equiv=\"Content-Language\"/>\n",
      "  <link href=\"https://news.mifx.com/kurs-valuta-asing.php\" hreflang=\"en-ID\" rel=\"alternate\"/>\n",
      "  <base href=\"https://news.mifx.com/\" target=\"_self\"/>\n",
      "  <title>\n",
      "   Kurs Dollar | USD | Nilai Tukar Dollar Hari Ini\n",
      "  </title>\n",
      "  <meta content=\"Kurs Dollar | USD | Nilai Tukar \n"
     ]
    }
   ],
   "source": [
    "#tarik keseluruhan data dari website monex.news\n",
    "\n",
    "url_get = requests.get('https://news.mifx.com/kurs-valuta-asing?kurs=JPY&searchdatefrom=01-01-2019&searchdateto=31-12-2019')\n",
    "soup = BeautifulSoup(url_get.content,\"html.parser\")\n",
    "print(soup.prettify()[:500])"
   ]
  },
  {
   "cell_type": "code",
   "execution_count": 5,
   "metadata": {
    "scrolled": true
   },
   "outputs": [
    {
     "name": "stdout",
     "output_type": "stream",
     "text": [
      "table cellpadding=\"10\" cellspacing=\"0\" class=\"centerText newsTable2\" width=\"100%\">\n",
      " <tr class=\"colo\n"
     ]
    }
   ],
   "source": [
    "#ambil data table dari keseluruhan tampilan website\n",
    "\n",
    "table = soup.find('table', attrs= {'class':'centerText newsTable2'})\n",
    "print(table.prettify()[1:100])"
   ]
  },
  {
   "cell_type": "code",
   "execution_count": 6,
   "metadata": {},
   "outputs": [
    {
     "data": {
      "text/plain": [
       "[<tr class=\"colorWhite fontsize14 firstRow\">\n",
       " <td>TANGGAL</td>\n",
       " <td>ASK</td>\n",
       " <td>BID</td>\n",
       " </tr>,\n",
       " <tr class=\"verySoftGreyBg\">\n",
       " <td>31 Desember 2019</td>\n",
       " <td>128,62</td>\n",
       " <td>127,32</td>\n",
       " </tr>,\n",
       " <tr>\n",
       " <td>30 Desember 2019</td>\n",
       " <td>128,30</td>\n",
       " <td>127,02</td>\n",
       " </tr>]"
      ]
     },
     "execution_count": 6,
     "metadata": {},
     "output_type": "execute_result"
    }
   ],
   "source": [
    "#ambil data pada tiap row dari table\n",
    "\n",
    "tr = table.find_all('tr')\n",
    "tr[:3]"
   ]
  },
  {
   "cell_type": "code",
   "execution_count": 7,
   "metadata": {},
   "outputs": [
    {
     "data": {
      "text/plain": [
       "[('02 Januari 2019', '132,89', '131,54'),\n",
       " ('03 Januari 2019', '135,44', '134,08'),\n",
       " ('04 Januari 2019', '133,51', '132,17'),\n",
       " ('07 Januari 2019', '130,86', '129,51'),\n",
       " ('08 Januari 2019', '129,84', '128,52')]"
      ]
     },
     "execution_count": 7,
     "metadata": {},
     "output_type": "execute_result"
    }
   ],
   "source": [
    "#data berupa HTML diubah menjadi series\n",
    "\n",
    "kursjp = []\n",
    "\n",
    "for i in range(1, len(tr)):\n",
    "    row = table.find_all('tr')[i]\n",
    "    \n",
    "    #get period\n",
    "    period = row.find_all('td')[0].text\n",
    "    period = period.strip()\n",
    "    period = period.replace('\\xa0',' ')\n",
    "    \n",
    "    #get ask\n",
    "    ask = row.find_all('td')[1].text\n",
    "    ask = ask.strip()\n",
    "    \n",
    "    #get bid\n",
    "    bid = row.find_all('td')[2].text\n",
    "    bid = bid.strip()\n",
    "    \n",
    "    kursjp.append((period,ask,bid))\n",
    "\n",
    "kursjp = kursjp[::-1]\n",
    "kursjp[:5]"
   ]
  },
  {
   "cell_type": "code",
   "execution_count": 8,
   "metadata": {
    "scrolled": false
   },
   "outputs": [
    {
     "data": {
      "text/html": [
       "<div>\n",
       "<style scoped>\n",
       "    .dataframe tbody tr th:only-of-type {\n",
       "        vertical-align: middle;\n",
       "    }\n",
       "\n",
       "    .dataframe tbody tr th {\n",
       "        vertical-align: top;\n",
       "    }\n",
       "\n",
       "    .dataframe thead th {\n",
       "        text-align: right;\n",
       "    }\n",
       "</style>\n",
       "<table border=\"1\" class=\"dataframe\">\n",
       "  <thead>\n",
       "    <tr style=\"text-align: right;\">\n",
       "      <th></th>\n",
       "      <th>Date</th>\n",
       "      <th>Ask</th>\n",
       "      <th>Bid</th>\n",
       "    </tr>\n",
       "  </thead>\n",
       "  <tbody>\n",
       "    <tr>\n",
       "      <th>0</th>\n",
       "      <td>02 Januari 2019</td>\n",
       "      <td>132,89</td>\n",
       "      <td>131,54</td>\n",
       "    </tr>\n",
       "    <tr>\n",
       "      <th>1</th>\n",
       "      <td>03 Januari 2019</td>\n",
       "      <td>135,44</td>\n",
       "      <td>134,08</td>\n",
       "    </tr>\n",
       "  </tbody>\n",
       "</table>\n",
       "</div>"
      ],
      "text/plain": [
       "              Date     Ask     Bid\n",
       "0  02 Januari 2019  132,89  131,54\n",
       "1  03 Januari 2019  135,44  134,08"
      ]
     },
     "execution_count": 8,
     "metadata": {},
     "output_type": "execute_result"
    }
   ],
   "source": [
    "#data series diubah menjadi dataframe\n",
    "kursjpy = pd.DataFrame(kursjp, columns = ('Date','Ask','Bid'))\n",
    "kursjpy.head(2)"
   ]
  },
  {
   "cell_type": "code",
   "execution_count": 9,
   "metadata": {},
   "outputs": [
    {
     "data": {
      "text/plain": [
       "Date    datetime64[ns]\n",
       "Ask            float64\n",
       "Bid            float64\n",
       "dtype: object"
      ]
     },
     "execution_count": 9,
     "metadata": {},
     "output_type": "execute_result"
    }
   ],
   "source": [
    "#ubah tipe data pada tiap kolom\n",
    "\n",
    "bulan = ['Januari', 'Februari', 'Maret', 'April', 'Mei', 'Juni', 'Juli',\\\n",
    "         'Agustus', 'September', 'Oktober', 'November', 'Desember']\n",
    "month = ['January', 'February', 'March', 'April', 'May', 'June', 'July',\\\n",
    "         'August', 'September', 'October', 'November', 'December']\n",
    "\n",
    "kursjpy['Date'] = kursjpy['Date'].replace(bulan, month, regex=True)\n",
    "kursjpy['Date'] = kursjpy['Date'].astype('datetime64')\n",
    "\n",
    "kursjpy[['Ask','Bid']] = kursjpy[['Ask','Bid']].replace(',', '.', regex=True)\n",
    "kursjpy[['Ask','Bid']] = kursjpy[['Ask','Bid']].astype('float64')\n",
    "kursjpy.dtypes"
   ]
  },
  {
   "cell_type": "code",
   "execution_count": 76,
   "metadata": {
    "scrolled": false
   },
   "outputs": [
    {
     "data": {
      "text/plain": [
       "<matplotlib.axes._subplots.AxesSubplot at 0x220cb95c188>"
      ]
     },
     "execution_count": 76,
     "metadata": {},
     "output_type": "execute_result"
    },
    {
     "data": {
      "image/png": "[encoded data removed]",
      "text/plain": [
       "<Figure size 432x288 with 1 Axes>"
      ]
     },
     "metadata": {
      "needs_background": "light"
     },
     "output_type": "display_data"
    }
   ],
   "source": [
    "#visualisasi rata-rata ask dan bid tiap bulan (descending)\n",
    "\n",
    "kursjpy['Month'] = kursjpy['Date'].dt.month_name()\n",
    "tablekursjpy = kursjpy.drop(columns='Date').groupby(by='Month').mean()\n",
    "tablekursjpy = tablekursjpy.sort_values('Ask', ascending = False)\n",
    "tablekursjpy.plot.bar()"
   ]
  },
  {
   "cell_type": "code",
   "execution_count": 75,
   "metadata": {
    "scrolled": false
   },
   "outputs": [
    {
     "data": {
      "text/plain": [
       "<matplotlib.axes._subplots.AxesSubplot at 0x220cd873788>"
      ]
     },
     "execution_count": 75,
     "metadata": {},
     "output_type": "execute_result"
    },
    {
     "data": {
      "image/png": "[encoded data removed]",
      "text/plain": [
       "<Figure size 432x288 with 1 Axes>"
      ]
     },
     "metadata": {
      "needs_background": "light"
     },
     "output_type": "display_data"
    }
   ],
   "source": [
    "#visualisasi data berdasarkan urutan bulan\n",
    "\n",
    "month_order = ['January', 'February', 'March', 'April', 'May', 'June', 'July', 'August',\n",
    "               'September', 'October', 'November', 'December']\n",
    "table_kursjpy = tablekursjpy.reindex(month_order)\n",
    "table_kursjpy.plot.line()"
   ]
  },
  {
   "cell_type": "markdown",
   "metadata": {},
   "source": [
    "**Analisa:**\n",
    "\n",
    "   Nilai rata-rata Bid dan Ask tiap bulannya berada pada range yang berdekatan, sedangkan fluktuasi nilainya cenderung berubah-ubah. Nilai tertinggi berada pada bulan Agustus dan terendah di bulan April. Akan tetapi dari Agustus hingga akhir tahun nilainya terus menerus turun, bahkan hingga nilainya lebih rendah dari nilai di bulan pertama tahun 2019.\n",
    "    Keadaan ini menandakan adanya ketidakstabilan nilai jual-beli mata uang Yen sepanjang tahun 2019. "
   ]
  }
 ],
 "metadata": {
  "kernelspec": {
   "display_name": "webscraping",
   "language": "python",
   "name": "webscraping"
  },
  "language_info": {
   "codemirror_mode": {
    "name": "ipython",
    "version": 3
   },
   "file_extension": ".py",
   "mimetype": "text/x-python",
   "name": "python",
   "nbconvert_exporter": "python",
   "pygments_lexer": "ipython3",
   "version": "3.7.7"
  },
  "toc": {
   "base_numbering": 1,
   "nav_menu": {},
   "number_sections": true,
   "sideBar": true,
   "skip_h1_title": false,
   "title_cell": "Table of Contents",
   "title_sidebar": "Contents",
   "toc_cell": false,
   "toc_position": {},
   "toc_section_display": true,
   "toc_window_display": false
  }
 },
 "nbformat": 4,
 "nbformat_minor": 4
}
